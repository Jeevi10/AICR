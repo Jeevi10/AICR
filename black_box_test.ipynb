{
 "cells": [
  {
   "cell_type": "code",
   "execution_count": 1,
   "metadata": {},
   "outputs": [],
   "source": [
    "import torch\n",
    "import torch.nn as nn\n",
    "import torchvision.transforms as transforms\n",
    "from torch.utils.data import DataLoader\n",
    "import torchvision\n",
    "from networks import *\n",
    "from advertorch.attacks import LinfPGDAttack, GradientSignAttack, LinfBasicIterativeAttack, CarliniWagnerL2Attack, MomentumIterativeAttack, SpatialTransformAttack, LinfSPSAAttack, JacobianSaliencyMapAttack\n",
    "from blackbox.CNN3 import CNN"
   ]
  },
  {
   "cell_type": "code",
   "execution_count": 2,
   "metadata": {},
   "outputs": [],
   "source": [
    "num_classes=10\n",
    "#torch.cuda.set_device(0)\n",
    "#model = resnet(num_classes=num_classes,depth=110)\n",
    "model = sixNet()\n",
    "#mdoel = model.cuda()\n",
    "BBox = CNN()\n",
    "if True:\n",
    "    model = nn.DataParallel(model,device_ids=[0,2,1,3]).cuda()\n",
    "    BBox = nn.DataParallel(BBox, device_ids=[0,2,1,3]).cuda()\n",
    "    \n",
    "#Loading Trained Model\n",
    "Bb_file = './saved_model/model_Blackbox_model_mnist'\n",
    "softmax_filename= './saved_model/model_pretrain_model_mnist'\n",
    "#filename= 'Models_PCL/CIFAR10_PCL.pth.tar' \n",
    "robust_model=  './saved_model/model_posttrain_model_mnist_prox'\n",
    "checkpoint = torch.load(robust_model)\n",
    "Bb = torch.load(Bb_file)\n",
    "model.load_state_dict(checkpoint)\n",
    "BBox.load_state_dict(Bb)\n",
    "model.eval()\n",
    "BBox.eval()\n",
    "device = torch.device('cuda:0' if torch.cuda.is_available() else 'cpu')\n",
    "\n",
    "# Loading Test Data (Un-normalized)\n",
    "transform_test = transforms.Compose([transforms.ToTensor()])\n",
    "    \n",
    "testset = torchvision.datasets.MNIST(root='./file', train=False,\n",
    "                                         download=True, transform=transform_test)\n",
    "test_loader = torch.utils.data.DataLoader(testset, batch_size=1000, pin_memory=True,\n",
    "                                        \n",
    "                                          shuffle=False, num_workers=4)\n",
    "\n",
    "eps = 0.4"
   ]
  },
  {
   "cell_type": "code",
   "execution_count": 3,
   "metadata": {},
   "outputs": [
    {
     "name": "stderr",
     "output_type": "stream",
     "text": [
      "/home/C00289092/anaconda3/envs/advattack/lib/python3.8/site-packages/advertorch/attacks/carlini_wagner.py:68: UserWarning: This Attack currently do not support a different loss function other than the default. Setting loss_fn manually is not effective.\n",
      "  warnings.warn(\n"
     ]
    }
   ],
   "source": [
    "pgd02 = LinfPGDAttack(\n",
    "    BBox,loss_fn=nn.CrossEntropyLoss(reduction=\"sum\"), eps=eps,\n",
    "    nb_iter=10, eps_iter=eps/10, rand_init=True, clip_min=0, clip_max=1,\n",
    "    targeted=False)\n",
    "\n",
    "fsgm = GradientSignAttack(BBox,loss_fn=nn.CrossEntropyLoss(reduction=\"sum\"), eps=eps, clip_min=0, clip_max=1)\n",
    "\n",
    "MIM1 = MomentumIterativeAttack(BBox,loss_fn=nn.CrossEntropyLoss(reduction=\"sum\"), eps=eps, nb_iter=10, eps_iter=eps/10, clip_min=0, clip_max=1, targeted=False)\n",
    "BIM = LinfBasicIterativeAttack(BBox, loss_fn=nn.CrossEntropyLoss(reduction=\"sum\"),eps=eps, nb_iter=10, eps_iter=eps/10, clip_min=0, clip_max=1, targeted=False)\n",
    "CW = CarliniWagnerL2Attack(BBox,loss_fn=nn.CrossEntropyLoss(reduction=\"sum\"), num_classes=10, learning_rate=0.01, max_iterations=1000, initial_const=10, clip_min=0, clip_max=1)\n",
    "attacks={'pgd':pgd02,\n",
    "        \"mim\":MIM1,\n",
    "        \"fsgm\":fsgm,\n",
    "        \"BIM\":BIM,\n",
    "        \"CW\":CW}"
   ]
  },
  {
   "cell_type": "code",
   "execution_count": null,
   "metadata": {},
   "outputs": [
    {
     "name": "stdout",
     "output_type": "stream",
     "text": [
      "pgd acc: 43.13\n",
      "mim acc: 26.99\n",
      "fsgm acc: 47.27\n",
      "BIM acc: 46.20\n"
     ]
    }
   ],
   "source": [
    "model.eval()\n",
    "for attack_name in attacks:\n",
    "    correct = 0\n",
    "    size = 0 \n",
    "    n = 0\n",
    "    for tedata, tetarget in test_loader:\n",
    "        n += 1\n",
    "        size += tedata.shape[0]\n",
    "        tedata, tetarget = tedata.to(device), tetarget.to(device)\n",
    "\n",
    "        tedata = attacks[attack_name].perturb(tedata, tetarget).to(device)\n",
    "        output = model(tedata)\n",
    "        pred = output.argmax(dim=1, keepdim=True) \n",
    "        correct += pred.eq(tetarget.view_as(pred)).sum().item()\n",
    "\n",
    "    print(\"{:s} acc: {:.2f}\".format(attack_name, 100. * correct / size))"
   ]
  },
  {
   "cell_type": "code",
   "execution_count": null,
   "metadata": {},
   "outputs": [],
   "source": []
  }
 ],
 "metadata": {
  "kernelspec": {
   "display_name": "Python 3",
   "language": "python",
   "name": "python3"
  },
  "language_info": {
   "codemirror_mode": {
    "name": "ipython",
    "version": 3
   },
   "file_extension": ".py",
   "mimetype": "text/x-python",
   "name": "python",
   "nbconvert_exporter": "python",
   "pygments_lexer": "ipython3",
   "version": "3.8.5"
  }
 },
 "nbformat": 4,
 "nbformat_minor": 4
}
